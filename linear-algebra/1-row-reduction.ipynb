{
 "cells": [
  {
   "cell_type": "markdown",
   "metadata": {},
   "source": [
    "### Row Echelon Form\n",
    "- leading entry - first leftmost nonzero entry\n",
    "- REF\n",
    "    1. any row consisting of all 0s bellow are non-zeros\n",
    "    2. any leading entry of a row to the right of a leading entry of any row above it \n",
    "    3. all entries in a column below are leading entry are 0 \n",
    "- Reduce Row Echelon Form (RREF)\n",
    "    1. leading entry of each nonzero is 1 (leading 1)\n",
    "    2. every leading 1 is only nonzero entry in it's column \n",
    "- row reduction - transforming matrix into echelon form (gaussian elimination)\n",
    "- pivot position - leading 1 in rref\n",
    "- pivot column - column that contains pivot position\n",
    "\n",
    "### Theorems\n",
    "- uniqueness of REF - every matrix is row equivalent to only and only matrix in ref\n",
    "- existence of solutions - system of linear equations is consistent - right most column is not a pivot column \n",
    "\n",
    "### Solving\n",
    "- Row Reduction Algorithm\n",
    ".... use a computer? \n",
    "\n",
    "```\n",
    "\n",
    "```"
   ]
  },
  {
   "cell_type": "markdown",
   "metadata": {},
   "source": [
    "## 1\n",
    "### Output Matrix (REF)\n",
    "\\[\n",
    "\\text{REF}(A) =\n",
    "\\begin{bmatrix}\n",
    "1 & 2 & 3 & 4 \\\\\n",
    "0 & 1 & 2 & 1 \\\\\n",
    "0 & 0 & 1 & -1\n",
    "\\end{bmatrix}\n",
    "\\]\n",
    "\n"
   ]
  },
  {
   "cell_type": "markdown",
   "metadata": {},
   "source": []
  },
  {
   "cell_type": "markdown",
   "metadata": {},
   "source": [
    "### 2\n",
    "\n",
    "A =\n",
    "\\begin{bmatrix}\n",
    "1 & 2 & 3 & 4 \\\\\n",
    "0 & 1 & 2 & 1 \\\\\n",
    "0 & 0 & 1 & -1\n",
    "\\end{bmatrix}\n"
   ]
  },
  {
   "cell_type": "markdown",
   "metadata": {},
   "source": []
  },
  {
   "cell_type": "code",
   "execution_count": 1,
   "metadata": {},
   "outputs": [],
   "source": [
    "import sympy as sp"
   ]
  },
  {
   "cell_type": "code",
   "execution_count": 2,
   "metadata": {},
   "outputs": [
    {
     "name": "stdout",
     "output_type": "stream",
     "text": [
      "(Matrix([\n",
      "[1, 0, 0, -1],\n",
      "[0, 1, 0, -7],\n",
      "[0, 0, 1,  5]]), (0, 1, 2))\n"
     ]
    }
   ],
   "source": [
    "m = sp.Matrix([\n",
    "    [0, 2, 3, 1],\n",
    "    [1, 1, 2, 2],\n",
    "    [0, -1, -1, 2]\n",
    "])\n",
    "\n",
    "print(m.rref())"
   ]
  },
  {
   "cell_type": "code",
   "execution_count": 5,
   "metadata": {},
   "outputs": [
    {
     "name": "stdout",
     "output_type": "stream",
     "text": [
      "(Matrix([\n",
      "[1, 3, 0, -5],\n",
      "[0, 0, 1,  3]]), (0, 2))\n"
     ]
    }
   ],
   "source": [
    "m = sp.Matrix([\n",
    "    [1,3,4,7], \n",
    "    [3, 9, 7,6]\n",
    "])\n",
    "\n",
    "print(m.rref())"
   ]
  },
  {
   "cell_type": "code",
   "execution_count": 4,
   "metadata": {},
   "outputs": [],
   "source": [
    "#3"
   ]
  },
  {
   "cell_type": "code",
   "execution_count": null,
   "metadata": {},
   "outputs": [],
   "source": []
  }
 ],
 "metadata": {
  "kernelspec": {
   "display_name": "base",
   "language": "python",
   "name": "python3"
  },
  "language_info": {
   "codemirror_mode": {
    "name": "ipython",
    "version": 3
   },
   "file_extension": ".py",
   "mimetype": "text/x-python",
   "name": "python",
   "nbconvert_exporter": "python",
   "pygments_lexer": "ipython3",
   "version": "3.11.5"
  }
 },
 "nbformat": 4,
 "nbformat_minor": 2
}
