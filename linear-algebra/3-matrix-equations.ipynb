{
 "cells": [
  {
   "cell_type": "markdown",
   "metadata": {},
   "source": [
    "### Matrix Equation\n",
    "- Ax = b, where A is a m x n matrix, x is a vector, b is a vector\n",
    "- identity matrix: 1s are diagonal, 0s everywhere else \n",
    "- homogenous: where vector is 0 and ax = 0 .. trivial solution: vector x = 0, anything else is non-trivial\n",
    "\n",
    "### Theorem\n",
    "- A = mxn matrix a...an  are columns, b is a vector in R^bn\n",
    "- Ax = b (we get)\n",
    "- same as x1a1 + x2a2 ... + xnan = b\n",
    "- same as [a b] = [a1 a2 ... an b]\n",
    "- Existence of solutions\n",
    "    1. b in R^m, the equation Ax = b has a solution\n",
    "    2. b in R^m, is linear combination of the columns A \n",
    "    3. columns of A span R^m\n",
    "    4. A has pivot in every row\n",
    "- Nontrivial solution = Ax = 0\n",
    "- Solution sets with Free variables\n",
    "    - Ax  = b is consistent\n",
    "    = w = p + bh, where vh is a solution of Ax = 0, p is like the translation ...similar to y = mx + b ...where as mx is the solution .. b is the translation\n",
    "\n",
    "### Matrix-Vector Products\n",
    "- Ax = [a1, a2, ... an] * [x1, x2, xn] = x1a1 + x2a2 ... + xnan\n",
    "- if matrix product Ax is defined, ith entry of Ax is the sum of products corresponding to the entries i row A of the vector x\n",
    "- properties:\n",
    "    - distributive: A(u + v) = Au + Av\n",
    "    - commutative: A(cu) = c(Au)\n",
    "    - identity: Iu = u\n",
    "\n",
    "# Solutions Sets of Linear Systems \n",
    "- Homogenous Systems: Ax = 0 can be written as Span{v1...vp}\n",
    "- Nonhomogenous Systems:\n",
    "    - Ax = B has infinite solutions\n",
    "    - Algo\n",
    "        1. write augmented matrix in REF\n",
    "        2. write basic variables in terms of free fvariables\n",
    "        3. write solution in terms of free variables\n",
    "        4. decompose x into linear combination of variables...multiple of free variables"
   ]
  },
  {
   "cell_type": "code",
   "execution_count": 1,
   "metadata": {},
   "outputs": [],
   "source": [
    "import sympy as sp"
   ]
  },
  {
   "cell_type": "code",
   "execution_count": 2,
   "metadata": {},
   "outputs": [
    {
     "name": "stdout",
     "output_type": "stream",
     "text": [
      "(Matrix([\n",
      "[1, 0,  1, -4],\n",
      "[0, 1, -1, -1],\n",
      "[0, 0,  0,  0]]), (0, 1))\n"
     ]
    }
   ],
   "source": [
    "#4\n",
    "a =[\n",
    "    [1, -2, 3, -2],\n",
    "    [-1, 1, -2, 3],\n",
    "    [2, -1, 3, -7]\n",
    "]\n",
    "\n",
    "print(sp.Matrix(a).rref())"
   ]
  },
  {
   "cell_type": "code",
   "execution_count": 10,
   "metadata": {},
   "outputs": [
    {
     "name": "stdout",
     "output_type": "stream",
     "text": [
      "(Matrix([\n",
      "[1, 0, 0],\n",
      "[0, 1, 0],\n",
      "[0, 0, 1]]), (0, 1, 2))\n"
     ]
    }
   ],
   "source": [
    "#1...no 0 != 1, so it is inconsistent...so vector b is not a linear comb\n",
    "a = [\n",
    "    [1, -3, 44,],\n",
    "    [0, 0, 47],\n",
    "    [2, 0, 94]\n",
    "]\n",
    "\n",
    "print(sp.Matrix(a).rref())"
   ]
  },
  {
   "cell_type": "code",
   "execution_count": 6,
   "metadata": {},
   "outputs": [
    {
     "name": "stdout",
     "output_type": "stream",
     "text": [
      "(Matrix([\n",
      "[1, 0,  9/23],\n",
      "[0, 1, -1/23],\n",
      "[0, 0,     0]]), (0, 1))\n"
     ]
    }
   ],
   "source": [
    "#4\n",
    "a = [\n",
    "    [2, -5, 1],\n",
    "    [3, 4, 1],\n",
    "    [3, 4, 1]\n",
    "]\n",
    "\n",
    "print(sp.Matrix(a).rref())"
   ]
  },
  {
   "cell_type": "code",
   "execution_count": 12,
   "metadata": {},
   "outputs": [
    {
     "name": "stdout",
     "output_type": "stream",
     "text": [
      "(Matrix([\n",
      "[1, 0, -1, 0],\n",
      "[0, 1,  1, 0],\n",
      "[0, 0,  0, 0]]), (0, 1))\n"
     ]
    }
   ],
   "source": [
    "#5\n",
    "import numpy as np\n",
    "a = [\n",
    "    [1, 1, 0, 0],\n",
    "    [1,2, 1, 0],\n",
    "    [0, 1, 1, 0]\n",
    "]\n",
    "\n",
    "print(sp.Matrix(a).rref())\n",
    "# ans = t[1, -1, 1]"
   ]
  },
  {
   "cell_type": "code",
   "execution_count": 9,
   "metadata": {},
   "outputs": [
    {
     "name": "stdout",
     "output_type": "stream",
     "text": [
      "(Matrix([\n",
      "[1, 0, -1],\n",
      "[0, 1,  1],\n",
      "[0, 0,  0]]), (0, 1))\n"
     ]
    }
   ],
   "source": [
    "# 6..no equations b/c inconsistent\n",
    "print(sp.Matrix(a).rref())\n"
   ]
  },
  {
   "cell_type": "code",
   "execution_count": null,
   "metadata": {},
   "outputs": [],
   "source": []
  }
 ],
 "metadata": {
  "kernelspec": {
   "display_name": "base",
   "language": "python",
   "name": "python3"
  },
  "language_info": {
   "codemirror_mode": {
    "name": "ipython",
    "version": 3
   },
   "file_extension": ".py",
   "mimetype": "text/x-python",
   "name": "python",
   "nbconvert_exporter": "python",
   "pygments_lexer": "ipython3",
   "version": "3.11.5"
  }
 },
 "nbformat": 4,
 "nbformat_minor": 2
}
