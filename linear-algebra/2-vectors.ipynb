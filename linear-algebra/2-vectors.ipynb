{
 "cells": [
  {
   "cell_type": "markdown",
   "metadata": {},
   "source": [
    "### Definitions\n",
    "- column vector: R^n n*1 matrix\n",
    "- scalar is single real number\n",
    "- zero vector: vector entries all 0\n",
    "- linear combination v1,v2...,vp in r^n with weights c1, c2, c3 in Rm the vector y = c1v1 + c2v2, ...cpvp\n",
    "- subset of rN is spanned by v1...vp is scalled Span{v1...vp}\n",
    "\n",
    "### algebraic properties \n",
    "- addition\n",
    "    - commutative: u + v = v + u\n",
    "    - associative: (u + v) + w = u + (v + w)\n",
    "    - identity: u + 0 = u\n",
    "    - inverse: u - u = 0, u*-1 = -u\n",
    "    - distributive: u * (v + w) = u*v + u*w \n",
    "- multiplication\n",
    "    associative: c(du) = cd(u)\n",
    "    multiplicative: 1u = u\n",
    "\n",
    "### Linear combinations\n",
    "- x1a1 + x2a2 ... xnan = b\n",
    "- same as [a1, a2, ...an , b]\n",
    "- x is set of span {v1 ... vp} if x is a linear combination of v1...vp \n",
    "- span of single vector, scalars of v, Span{v} is a line in r^3 through the origin v and 0\n",
    "- span of two vectors:\n",
    "    - u is a scar multiple of v, {u, v} is through the origin \n",
    "    - u is not scar multiple of {u, v}, then it is in the plane if r^3 ...u, v, 0\n"
   ]
  },
  {
   "cell_type": "code",
   "execution_count": 1,
   "metadata": {},
   "outputs": [],
   "source": [
    "import sympy as sp"
   ]
  },
  {
   "cell_type": "code",
   "execution_count": 3,
   "metadata": {},
   "outputs": [
    {
     "name": "stdout",
     "output_type": "stream",
     "text": [
      "(Matrix([\n",
      "[1, 0, 0],\n",
      "[0, 1, 0],\n",
      "[0, 0, 1]]), (0, 1, 2))\n",
      "(Matrix([\n",
      "[1, 0,  2],\n",
      "[0, 1, -1],\n",
      "[0, 0,  0]]), (0, 1))\n"
     ]
    }
   ],
   "source": [
    "\n",
    "m_abc = [\n",
    "    [1, 0, 0],\n",
    "    [0, 1, 0],\n",
    "    [0, 0, 1]\n",
    "\n",
    "]\n",
    "m_def = [\n",
    "    [1, 0, 2],\n",
    "    [1, 1, 1],\n",
    "    [1, 2, 0]\n",
    "]\n",
    "\n",
    "print(sp.Matrix(m_abc).rref())\n",
    "print(sp.Matrix(m_def).rref())\n"
   ]
  },
  {
   "cell_type": "code",
   "execution_count": 5,
   "metadata": {},
   "outputs": [
    {
     "name": "stdout",
     "output_type": "stream",
     "text": [
      "[[-1]\n",
      " [ 1]\n",
      " [ 3]]\n"
     ]
    }
   ],
   "source": [
    "import numpy as np\n",
    "\n",
    "u = np.array([1, 2, 3]).reshape(-1, 1)\n",
    "v = np.array([1, 1, 1]).reshape(-1, 1)\n",
    "\n",
    "print(2*u - 3*v)"
   ]
  },
  {
   "cell_type": "code",
   "execution_count": 9,
   "metadata": {},
   "outputs": [
    {
     "name": "stdout",
     "output_type": "stream",
     "text": [
      "(Matrix([\n",
      "[1, 0, 0],\n",
      "[0, 1, 0],\n",
      "[0, 0, 1]]), (0, 1, 2))\n"
     ]
    }
   ],
   "source": [
    "a = sp.Matrix([\n",
    "    [1, 2, 0],\n",
    "    [2, 1, 2],\n",
    "    [3, 1, 4]]\n",
    ")\n",
    "\n",
    "print(sp.Matrix(a).rref()) # this is RREF ... so there is a solution "
   ]
  },
  {
   "cell_type": "code",
   "execution_count": 10,
   "metadata": {},
   "outputs": [],
   "source": [
    "#1 -- linear combination must be a scalar of u,v "
   ]
  },
  {
   "cell_type": "code",
   "execution_count": 11,
   "metadata": {},
   "outputs": [],
   "source": [
    "#2 both can be in RREF .. same form... are scalars of each other...thus same"
   ]
  },
  {
   "cell_type": "code",
   "execution_count": null,
   "metadata": {},
   "outputs": [],
   "source": [
    "#3 "
   ]
  }
 ],
 "metadata": {
  "kernelspec": {
   "display_name": "base",
   "language": "python",
   "name": "python3"
  },
  "language_info": {
   "codemirror_mode": {
    "name": "ipython",
    "version": 3
   },
   "file_extension": ".py",
   "mimetype": "text/x-python",
   "name": "python",
   "nbconvert_exporter": "python",
   "pygments_lexer": "ipython3",
   "version": "3.11.5"
  }
 },
 "nbformat": 4,
 "nbformat_minor": 2
}
