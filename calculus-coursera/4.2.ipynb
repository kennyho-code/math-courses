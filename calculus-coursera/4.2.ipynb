{
 "cells": [
  {
   "cell_type": "markdown",
   "metadata": {},
   "source": [
    "### Optimization\n",
    "- tangent line is slope 0\n",
    "\n",
    "### Extreme Value Theorem\n",
    "\n",
    "### Fermat's Theorem\n",
    "- local or max or min at c, then f'(c) = 0\n",
    "- critical number\n",
    "\n",
    "### first Derivative Test\n",
    "- max: (-) => (+) \n",
    "- min: (+) => (-) \n",
    "\n",
    "### points of inflection \n",
    "- concave up or down\n",
    "- second derivative \n",
    "\n",
    "\n",
    "### Maximal/Minima\n",
    "- global maximum value\n",
    "- global minimum value\n",
    "- local maximum value\n",
    "- local minimum value\n",
    "- extrema\n",
    "- optimization\n",
    "- critical points\n",
    "- fermat's theroem\n",
    "- first derivative test \n",
    "- closed interval method \n",
    "- second derivative - concave up/down"
   ]
  },
  {
   "cell_type": "code",
   "execution_count": 1,
   "metadata": {},
   "outputs": [],
   "source": [
    "from sympy import *\n",
    "from sympy.parsing.sympy_parser import parse_expr"
   ]
  },
  {
   "cell_type": "code",
   "execution_count": 3,
   "metadata": {},
   "outputs": [],
   "source": [
    "def local_extrema_calculator(f, x):\n",
    "    x = Symbol('x')\n",
    "    j = 0\n",
    "\n",
    "    max_list = []\n",
    "    min_list = []\n",
    "\n",
    "    dy = Derivative(f, x).doit()\n",
    "    print(\"the deriv is : \", dy)\n",
    "\n",
    "    critical_pts = solve(dy, x)\n",
    "    print(\"the critical values are x = \", critical_pts)\n",
    "\n",
    "    d2f = Derivative(f, x, 2).doit()\n",
    "\n",
    "    for i in critical_pts:\n",
    "        cp = d2f.subs({x: critical_pts[j]}).evalf()\n",
    "        if cp > 0 :\n",
    "            y = parse_expr(f).subs({x: critical_pts[j]})\n",
    "            min_list.append(float(y))\n",
    "        elif cp == 0:\n",
    "            print(\"unable to determine if it's min or max for: \", cp)\n",
    "        else:\n",
    "            y = parse_expr(f).subs({x: critical_pts[j]})\n",
    "            max_list.append(float(y))\n",
    "        j = j + 1\n",
    "\n",
    "    print(\"local maxs: \", max_list)\n",
    "    print(\"local mins: \", min_list)\n",
    "\n"
   ]
  },
  {
   "cell_type": "code",
   "execution_count": 11,
   "metadata": {},
   "outputs": [
    {
     "name": "stdout",
     "output_type": "stream",
     "text": [
      "{3/2}\n"
     ]
    }
   ],
   "source": [
    "t = symbols('t')\n",
    "f = -16*t**2 + 48*t + 4\n",
    "df = diff(f, t)\n",
    "sol = solveset(Eq(df, 0), t) \n",
    "print(sol)"
   ]
  },
  {
   "cell_type": "markdown",
   "metadata": {},
   "source": [
    "# optimization\n",
    "- translate to math expressions\n",
    "- what needs to be optimized, convert to one variable\n",
    "- find critical points\n",
    "- classify critical points with first derv. test or closed interval method\n"
   ]
  },
  {
   "cell_type": "code",
   "execution_count": 12,
   "metadata": {},
   "outputs": [
    {
     "name": "stdout",
     "output_type": "stream",
     "text": [
      "3*x**2 + 2*x - 1\n"
     ]
    }
   ],
   "source": [
    "x = symbols(\"x\")\n",
    "f = x**3 + x**2 - x\n",
    "df = diff(f, x)\n",
    "print(df)"
   ]
  },
  {
   "cell_type": "code",
   "execution_count": 14,
   "metadata": {},
   "outputs": [
    {
     "data": {
      "text/latex": [
       "$\\displaystyle \\left\\{-1, \\frac{1}{3}\\right\\}$"
      ],
      "text/plain": [
       "{-1, 1/3}"
      ]
     },
     "execution_count": 14,
     "metadata": {},
     "output_type": "execute_result"
    }
   ],
   "source": [
    "solveset(df, x)"
   ]
  },
  {
   "cell_type": "code",
   "execution_count": 17,
   "metadata": {},
   "outputs": [
    {
     "name": "stdout",
     "output_type": "stream",
     "text": [
      "[7, -1, 4]\n"
     ]
    }
   ],
   "source": [
    "sample = [-2, 0, 1]\n",
    "sample_values = [df.subs(x, i) for i in sample]\n",
    "print(sample_values)"
   ]
  },
  {
   "cell_type": "code",
   "execution_count": 18,
   "metadata": {},
   "outputs": [],
   "source": [
    "# - 1  is local max b/c + => -\n",
    "# 1/3 is local max b/c - => +"
   ]
  },
  {
   "cell_type": "code",
   "execution_count": 19,
   "metadata": {},
   "outputs": [
    {
     "name": "stdout",
     "output_type": "stream",
     "text": [
      "[-2, 1, -0.185185185185185, 1]\n"
     ]
    }
   ],
   "source": [
    "x = symbols('x')\n",
    "f = x**3 + x**2 - x\n",
    "x_values = [-2, -1, 1/3, 1]\n",
    "f_values = [f.subs(x, i) for i in x_values]\n",
    "print(f_values)"
   ]
  },
  {
   "cell_type": "code",
   "execution_count": 20,
   "metadata": {},
   "outputs": [],
   "source": [
    "# 1 is max, -2, is min"
   ]
  },
  {
   "cell_type": "code",
   "execution_count": 26,
   "metadata": {},
   "outputs": [
    {
     "name": "stdout",
     "output_type": "stream",
     "text": [
      "{-1/2}\n"
     ]
    }
   ],
   "source": [
    "# sample problem 1\n",
    "x = symbols('x')\n",
    "f = log(x**2 + x + 1)\n",
    "df = diff(f, x)\n",
    "critical_nums = solveset(df, x)\n",
    "print(critical_nums)"
   ]
  },
  {
   "cell_type": "code",
   "execution_count": 29,
   "metadata": {},
   "outputs": [
    {
     "name": "stdout",
     "output_type": "stream",
     "text": [
      "[-1, 0, 1]\n"
     ]
    }
   ],
   "source": [
    "intervals = [-1, -1/2, 1]\n",
    "slopes = [df.subs(x, i) for i in intervals]\n",
    "print(slopes)\n",
    "# (-inf, 0): decreasing, (0, +inf) => increasing"
   ]
  },
  {
   "cell_type": "code",
   "execution_count": 31,
   "metadata": {},
   "outputs": [
    {
     "name": "stdout",
     "output_type": "stream",
     "text": [
      "2.66666666666667\n"
     ]
    }
   ],
   "source": [
    "d2f = diff(f, x, 2)\n",
    "print(d2f.subs(x, -1/2))"
   ]
  },
  {
   "cell_type": "code",
   "execution_count": 32,
   "metadata": {},
   "outputs": [],
   "source": [
    "# -1/2 is local min"
   ]
  },
  {
   "cell_type": "code",
   "execution_count": 33,
   "metadata": {},
   "outputs": [],
   "source": [
    "# 5am - 7am: rose faser and faster\n",
    "# 7am - 9am: still rose, but more slowly\n",
    "# 9:am - 11am: decreased steadily\n",
    "\n",
    "# t = 7, between 6-7 ... local minima, concave upwards\n",
    "# t = 9, between 9-10, local max,.... concave downwards"
   ]
  },
  {
   "cell_type": "code",
   "execution_count": 39,
   "metadata": {},
   "outputs": [
    {
     "name": "stdout",
     "output_type": "stream",
     "text": [
      "profit eq 348 - 2*x\n",
      "{174.0}\n"
     ]
    }
   ],
   "source": [
    "x = symbols('x')\n",
    "# revenue\n",
    "r = 360*x - x**2\n",
    "# cost \n",
    "c = 12*x + 64\n",
    "\n",
    "\n",
    "# deriv of revenue is profit per item\n",
    "pr = diff(r - c , x)\n",
    "\n",
    "\n",
    "\n",
    "\n",
    "print(\"profit eq\", pr)\n",
    "## when the slope is 0\n",
    "\n",
    "print(solveset(pr, x).evalf())\n",
    "\n"
   ]
  },
  {
   "cell_type": "code",
   "execution_count": 60,
   "metadata": {},
   "outputs": [
    {
     "name": "stdout",
     "output_type": "stream",
     "text": [
      "{-2, 1}\n"
     ]
    }
   ],
   "source": [
    "# 1\n",
    "x = symbols('x')\n",
    "f = x**4 - 6*x**2 + 8*x\n",
    "df = diff(f, x)\n",
    "cs = solveset(df, x)\n",
    "print(cs)"
   ]
  },
  {
   "cell_type": "code",
   "execution_count": 61,
   "metadata": {},
   "outputs": [
    {
     "name": "stdout",
     "output_type": "stream",
     "text": [
      "{1}\n",
      "[1.00000000000000, 0, 0.295562243957226]\n"
     ]
    }
   ],
   "source": [
    "# 2 - wrong ...hmm wtf\n",
    "x = symbols('x')\n",
    "h = exp(x) / (x**2 + 1)\n",
    "dh = diff(h, x )\n",
    "cs = solveset(dh, x)\n",
    "print(cs) # 1 \n",
    "\n",
    "intervals = [0 , 1,  2]\n",
    "slopes = [dh.subs(x, i).evalf() for i in intervals]\n",
    "print(slopes)"
   ]
  },
  {
   "cell_type": "code",
   "execution_count": 63,
   "metadata": {},
   "outputs": [
    {
     "name": "stdout",
     "output_type": "stream",
     "text": [
      "{0}\n",
      "[0.367879441171442, 1.00000000000000, 0.367879441171442]\n"
     ]
    }
   ],
   "source": [
    "# 3 wrong find the value\n",
    "x = symbols('x')\n",
    "f = exp(-x**2)\n",
    "df = diff(f, x)\n",
    "critical_nums = solveset(df, x)\n",
    "print(critical_nums)\n",
    "intervals = [-1 , 0, 1]\n",
    "slopes = [f.subs(x, i).evalf() for i in intervals]\n",
    "print(slopes)"
   ]
  },
  {
   "cell_type": "code",
   "execution_count": 65,
   "metadata": {},
   "outputs": [
    {
     "name": "stdout",
     "output_type": "stream",
     "text": [
      "{0, 2}\n",
      "[-4, 0, -2, -4]\n"
     ]
    }
   ],
   "source": [
    "x = symbols('x')\n",
    "k = x**3 - 3*x**2\n",
    "dk = diff(k, x)\n",
    "critical_nums = solveset(dk, x)\n",
    "print(critical_nums)\n",
    "\n",
    "intervals = [-1, 0, 1, 2]\n",
    "vals = [k.subs(x, i) for i in intervals]\n",
    "print(vals)"
   ]
  },
  {
   "cell_type": "code",
   "execution_count": 66,
   "metadata": {},
   "outputs": [
    {
     "name": "stdout",
     "output_type": "stream",
     "text": [
      "[-12, -6, 0, 6]\n"
     ]
    }
   ],
   "source": [
    "# wrong\n",
    "d2f = diff(k, x, 2)\n",
    "concaves = [d2f.subs(x, i) for i in intervals]\n",
    "print(concaves)"
   ]
  },
  {
   "cell_type": "code",
   "execution_count": 53,
   "metadata": {},
   "outputs": [],
   "source": [
    "# 0 -> 6: rose faser and faster\n",
    "# 6 -> 14: rose slower and slower\n",
    "# 14 -> 32: decrease steadily"
   ]
  },
  {
   "cell_type": "code",
   "execution_count": 54,
   "metadata": {},
   "outputs": [
    {
     "name": "stdout",
     "output_type": "stream",
     "text": [
      "{105}\n"
     ]
    }
   ],
   "source": [
    "x = symbols('x')\n",
    "r = 240*x - x**2\n",
    "c = 30*x + 72\n",
    "p = r - c\n",
    "dp = diff(p, x)\n",
    "cs = solveset(dp, x)\n",
    "print(cs)"
   ]
  },
  {
   "cell_type": "code",
   "execution_count": 57,
   "metadata": {},
   "outputs": [
    {
     "name": "stdout",
     "output_type": "stream",
     "text": [
      "{40}\n",
      "3200\n"
     ]
    }
   ],
   "source": [
    "#  |       |\n",
    "#x |       | x\n",
    "#  -------\n",
    "#      y\n",
    "# 160 ft of fencing\n",
    "# 160 = 2x + y \n",
    "# A = x * y \n",
    "# maximize the area\n",
    "# y = 160 - 2x \n",
    "\n",
    "x = symbols('x')\n",
    "y = 160 - 2*x\n",
    "a = x * (y)\n",
    "da = diff(a, x)\n",
    "critical_nums = solveset(da, x)\n",
    "print(critical_nums)\n",
    "# x = 40\n",
    "y2 = y.subs(x, 40)\n",
    "\n",
    "max_area = 40 * y2\n",
    "print(max_area)\n",
    "\n"
   ]
  },
  {
   "cell_type": "code",
   "execution_count": 59,
   "metadata": {},
   "outputs": [
    {
     "name": "stdout",
     "output_type": "stream",
     "text": [
      "-1 + 192/s\n",
      "{192}\n"
     ]
    }
   ],
   "source": [
    "\n",
    "# find the value\n",
    "s = symbols('s')\n",
    "I = 192*log(s / 1041) - s + 1042\n",
    "dI = diff(I, s)\n",
    "print(dI)\n",
    "sols = solveset(dI, s)\n",
    "print(sols)"
   ]
  },
  {
   "cell_type": "code",
   "execution_count": 67,
   "metadata": {},
   "outputs": [
    {
     "name": "stdout",
     "output_type": "stream",
     "text": [
      "525.435194255260\n"
     ]
    }
   ],
   "source": [
    "print(I.subs(s, 192).evalf())"
   ]
  },
  {
   "cell_type": "code",
   "execution_count": null,
   "metadata": {},
   "outputs": [],
   "source": []
  }
 ],
 "metadata": {
  "kernelspec": {
   "display_name": "base",
   "language": "python",
   "name": "python3"
  },
  "language_info": {
   "codemirror_mode": {
    "name": "ipython",
    "version": 3
   },
   "file_extension": ".py",
   "mimetype": "text/x-python",
   "name": "python",
   "nbconvert_exporter": "python",
   "pygments_lexer": "ipython3",
   "version": "3.11.5"
  }
 },
 "nbformat": 4,
 "nbformat_minor": 2
}
