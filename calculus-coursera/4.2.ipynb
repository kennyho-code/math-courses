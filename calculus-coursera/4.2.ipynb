{
 "cells": [
  {
   "cell_type": "markdown",
   "metadata": {},
   "source": [
    "### Optimization\n",
    "- tangent line is slope 0\n",
    "\n",
    "### Extreme Value Theorem\n",
    "\n",
    "### Fermat's Theorem\n",
    "- local or max or min at c, then f'(c) = 0\n",
    "- critical number\n",
    "\n",
    "### first Derivative Test\n",
    "- max: (-) => (+) \n",
    "- min: (+) => (-) \n",
    "\n",
    "### points of inflection \n",
    "- concave up or down\n",
    "- second derivative \n",
    "\n",
    "\n",
    "### Maximal/Minima\n",
    "- global maximum value\n",
    "- global minimum value\n",
    "- local maximum value\n",
    "- local minimum value\n",
    "- extrema\n",
    "- optimization\n",
    "- critical points\n",
    "- fermat's theroem\n",
    "- first derivative test \n",
    "- closed interval method \n",
    "- second derivative - concave up/down"
   ]
  }
 ],
 "metadata": {
  "language_info": {
   "name": "python"
  }
 },
 "nbformat": 4,
 "nbformat_minor": 2
}
