{
 "cells": [
  {
   "cell_type": "markdown",
   "metadata": {},
   "source": [
    "### Antiderivative and Indefinite Integrals\n",
    "- f(x) => F(X) + C (taking antideriv.)\n",
    "- F(X) + C => f(x) (taking deriv.)\n",
    "- Summation f(x)dx is (f(x) + c) \n",
    "- integrable\n",
    "- definite vs indefinite integral (family of functions)\n",
    "- constant multiple rule, anti-derivatives\n",
    "- power rule x^(n + 1) / (n + 1) + c\n",
    "- x^-1 => ln|x| + c\n",
    "- e^x => e^x _ c\n",
    "\n",
    "### The Fundamental Theorem of Calculus \n",
    "= F'(x) is continuous on [a, b] summation from a to b F'(x)dx = F(b) - F(a)\n",
    "\n"
   ]
  },
  {
   "cell_type": "code",
   "execution_count": 1,
   "metadata": {},
   "outputs": [],
   "source": [
    "from sympy import *"
   ]
  },
  {
   "cell_type": "code",
   "execution_count": 2,
   "metadata": {},
   "outputs": [
    {
     "name": "stdout",
     "output_type": "stream",
     "text": [
      "(x - 1)*exp(x)\n"
     ]
    }
   ],
   "source": [
    "x = symbols('x')\n",
    "integral = integrate(x*exp(x), x)\n",
    "print(integral)"
   ]
  },
  {
   "cell_type": "code",
   "execution_count": null,
   "metadata": {},
   "outputs": [],
   "source": [
    "x = symbols('x')\n",
    "integrate()"
   ]
  },
  {
   "cell_type": "code",
   "execution_count": 4,
   "metadata": {},
   "outputs": [
    {
     "name": "stdout",
     "output_type": "stream",
     "text": [
      "7.25000000000000\n"
     ]
    }
   ],
   "source": [
    "#1\n",
    "x = symbols('x')\n",
    "g = 3*x**(1/2) + (1/x**2) - x\n",
    "G_prime = integrate(g, (x, 1, 4))\n",
    "print(G_prime)"
   ]
  },
  {
   "cell_type": "code",
   "execution_count": 6,
   "metadata": {},
   "outputs": [
    {
     "name": "stdout",
     "output_type": "stream",
     "text": [
      "64.5164800000000\n"
     ]
    }
   ],
   "source": [
    "#2\n",
    "t = symbols('t')\n",
    "f = 58 - 0.2*t + 0.09*t**2 - 0.0005*t**3 - 0.0001*t**4\n",
    "F_prime = integrate(f, (t, 0, 24))\n",
    "avg = F_prime / 24\n",
    "print(avg) "
   ]
  },
  {
   "cell_type": "code",
   "execution_count": 7,
   "metadata": {},
   "outputs": [
    {
     "name": "stdout",
     "output_type": "stream",
     "text": [
      "2000000\n"
     ]
    }
   ],
   "source": [
    "# start 2005, t = 0 \n",
    "# 2007, t= 2\n",
    "# 2011, t= 7\n",
    "# F(7) - F(2)\n",
    "\n",
    "#3a\n",
    "F_Prime_2_7 = 7200000 - 5200000\n",
    "print(F_Prime_2_7)"
   ]
  },
  {
   "cell_type": "code",
   "execution_count": 13,
   "metadata": {},
   "outputs": [
    {
     "name": "stdout",
     "output_type": "stream",
     "text": [
      "9193466.66666667\n"
     ]
    }
   ],
   "source": [
    "#3b\n",
    "t = symbols('t')\n",
    "v = 500000 - 25*t**2\n",
    "V_prime = integrate(v, (t, 6, 10))\n",
    "print(7200000 + V_prime.evalf())"
   ]
  },
  {
   "cell_type": "code",
   "execution_count": 14,
   "metadata": {},
   "outputs": [],
   "source": [
    "# Test\n",
    "#1 because we when go from the derivative to the anti-deriv...we get a C...which can be any constant c\n"
   ]
  },
  {
   "cell_type": "code",
   "execution_count": 15,
   "metadata": {},
   "outputs": [],
   "source": [
    "#2 family of functions with C"
   ]
  },
  {
   "cell_type": "code",
   "execution_count": 22,
   "metadata": {},
   "outputs": [
    {
     "name": "stdout",
     "output_type": "stream",
     "text": [
      "2*x**5/5 + sqrt(3)*x**2/2 + x\n"
     ]
    }
   ],
   "source": [
    "#3 \n",
    "x = symbols('x')\n",
    "f = 2*x**4 + sqrt(3)*x + 1\n",
    "F_prime = integrate(f, x)\n",
    "print(F_prime.expand())"
   ]
  },
  {
   "cell_type": "code",
   "execution_count": 27,
   "metadata": {},
   "outputs": [
    {
     "name": "stdout",
     "output_type": "stream",
     "text": [
      "log(9/4) + 12.6666666666667\n",
      "12.666666666666666\n"
     ]
    }
   ],
   "source": [
    "#4\n",
    "x = symbols('x')\n",
    "h = x**(1/2) + (1 / x)\n",
    "H_prime = integrate(h, (x, 4, 9))\n",
    "print(H_prime.simplify())\n",
    "print(38/3)"
   ]
  },
  {
   "cell_type": "code",
   "execution_count": 29,
   "metadata": {},
   "outputs": [
    {
     "name": "stdout",
     "output_type": "stream",
     "text": [
      "-log(exp(x) - 2)/4 + log(exp(x) + 2)/4\n"
     ]
    }
   ],
   "source": [
    "#5\n",
    "x = symbols('x')\n",
    "f = exp(x) / (4 - exp(2*x))\n",
    "F_prime = integrate(f, x)\n",
    "print(F_prime.simplify())"
   ]
  },
  {
   "cell_type": "code",
   "execution_count": 30,
   "metadata": {},
   "outputs": [
    {
     "name": "stdout",
     "output_type": "stream",
     "text": [
      "((2*x**2 + 1)*log(2*x**2 + 1) + 1)/(8*(2*x**2 + 1))\n"
     ]
    }
   ],
   "source": [
    "#6\n",
    "x = symbols('x')\n",
    "f = x**3 / (1 + 2*x**2)**2\n",
    "F_prime = integrate(f, x)\n",
    "print(F_prime.simplify())"
   ]
  },
  {
   "cell_type": "code",
   "execution_count": 31,
   "metadata": {},
   "outputs": [
    {
     "name": "stdout",
     "output_type": "stream",
     "text": [
      "30\n"
     ]
    }
   ],
   "source": [
    "#7\n",
    "x = symbols('x')\n",
    "f = 3*x**2 + 2*x\n",
    "F_prime = integrate(f, (x, 0, 5))\n",
    "print(F_prime / 5)"
   ]
  },
  {
   "cell_type": "code",
   "execution_count": 42,
   "metadata": {},
   "outputs": [
    {
     "name": "stdout",
     "output_type": "stream",
     "text": [
      "4034701106.97710\n",
      "4034.70110697710\n"
     ]
    }
   ],
   "source": [
    "#8\n",
    "t = symbols('t')\n",
    "p = 2560*exp(0.017*t)\n",
    "P_prime = integrate(p, (t, 0, 50))\n",
    "ans = (P_prime.evalf() / 50) * 1000000\n",
    "print(ans)\n",
    "\n",
    "\n",
    "t = symbols('t')\n",
    "P = 2560*exp(0.017*t)\n",
    "print(1/50*integrate(P, (t, 0, 50)))"
   ]
  },
  {
   "cell_type": "code",
   "execution_count": 39,
   "metadata": {},
   "outputs": [],
   "source": [
    "# 4034000000"
   ]
  },
  {
   "cell_type": "code",
   "execution_count": 40,
   "metadata": {},
   "outputs": [
    {
     "name": "stdout",
     "output_type": "stream",
     "text": [
      "14760\n"
     ]
    }
   ],
   "source": [
    "#9\n",
    "# 2015\n",
    "# 28990\n",
    "t1 = 28990\n",
    "t5 = 43750\n",
    "print(t5 - t1)"
   ]
  },
  {
   "cell_type": "code",
   "execution_count": 41,
   "metadata": {},
   "outputs": [
    {
     "name": "stdout",
     "output_type": "stream",
     "text": [
      "17850\n"
     ]
    }
   ],
   "source": [
    "#10\n",
    "t = symbols('t')\n",
    "n = 4000 - 30*t**2\n",
    "F_prime = integrate(n, (t, 5, 6))\n",
    "worth = (t5 - t1) + F_prime\n",
    "print(worth)"
   ]
  },
  {
   "cell_type": "code",
   "execution_count": null,
   "metadata": {},
   "outputs": [],
   "source": []
  }
 ],
 "metadata": {
  "kernelspec": {
   "display_name": "base",
   "language": "python",
   "name": "python3"
  },
  "language_info": {
   "codemirror_mode": {
    "name": "ipython",
    "version": 3
   },
   "file_extension": ".py",
   "mimetype": "text/x-python",
   "name": "python",
   "nbconvert_exporter": "python",
   "pygments_lexer": "ipython3",
   "version": "3.11.5"
  }
 },
 "nbformat": 4,
 "nbformat_minor": 2
}
