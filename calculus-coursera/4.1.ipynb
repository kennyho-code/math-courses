{
 "cells": [
  {
   "cell_type": "code",
   "execution_count": 1,
   "metadata": {},
   "outputs": [],
   "source": [
    "from sympy import *"
   ]
  },
  {
   "cell_type": "code",
   "execution_count": 2,
   "metadata": {},
   "outputs": [],
   "source": [
    "x = symbols('x')\n",
    "f = (2*x + 1)**2\n",
    "df = diff(f, x)"
   ]
  },
  {
   "cell_type": "code",
   "execution_count": 3,
   "metadata": {},
   "outputs": [],
   "source": [
    "slope = df.subs(x, 1)"
   ]
  },
  {
   "cell_type": "code",
   "execution_count": 4,
   "metadata": {},
   "outputs": [
    {
     "name": "stdout",
     "output_type": "stream",
     "text": [
      "-1/12\n"
     ]
    }
   ],
   "source": [
    "p_slope = -(1/slope)\n",
    "print(p_slope)"
   ]
  },
  {
   "cell_type": "code",
   "execution_count": 5,
   "metadata": {},
   "outputs": [],
   "source": [
    "y = f.subs(x, 1)"
   ]
  },
  {
   "cell_type": "code",
   "execution_count": 6,
   "metadata": {},
   "outputs": [
    {
     "name": "stdout",
     "output_type": "stream",
     "text": [
      "109/12 - x/12\n"
     ]
    }
   ],
   "source": [
    "eq = p_slope*(x - 1) + y\n",
    "print(eq)"
   ]
  },
  {
   "cell_type": "code",
   "execution_count": 7,
   "metadata": {},
   "outputs": [],
   "source": [
    "x = symbols('x')\n",
    "f = 2**x"
   ]
  },
  {
   "cell_type": "code",
   "execution_count": 8,
   "metadata": {},
   "outputs": [],
   "source": [
    "f = exp(x)"
   ]
  },
  {
   "cell_type": "code",
   "execution_count": 9,
   "metadata": {},
   "outputs": [
    {
     "name": "stdout",
     "output_type": "stream",
     "text": [
      "exp(x)\n"
     ]
    }
   ],
   "source": [
    "print(f)"
   ]
  },
  {
   "cell_type": "markdown",
   "metadata": {},
   "source": [
    "- derivative\n",
    "    - exponential: f'(b^x) = (b^x)*ln(b)\n",
    "    - logarithmic: f'(logb(x)) = (1/ln(b)) * (1/x)\n",
    "    - natural log: f'(ln(x)) = 1/x\n",
    "    - power rule: f'(x^n) = n*x^(n-1)\n",
    "    - sum + difference rule = f'(a + b) = f'(a) + f'(b)\n",
    "    - product rule: f'(f(x)g(x)) = f(x)(g'(x)) + g(x)(f'(x))\n",
    "    - quotient rule: '(f(x) / g(x)) = (g'(x)(f(x)) - (f'(x)g(x))) (g(x)^2)\n",
    "    - chain: f(g(x))'(x) = f'(g(x))(g'(x))\n",
    "    \n",
    "- \n"
   ]
  },
  {
   "cell_type": "code",
   "execution_count": 10,
   "metadata": {},
   "outputs": [],
   "source": [
    "from sympy import *"
   ]
  },
  {
   "cell_type": "code",
   "execution_count": 11,
   "metadata": {},
   "outputs": [
    {
     "name": "stdout",
     "output_type": "stream",
     "text": [
      "50*x**49\n"
     ]
    }
   ],
   "source": [
    "x = symbols('x')\n",
    "f = x**50\n",
    "print(diff(f, x))"
   ]
  },
  {
   "cell_type": "code",
   "execution_count": 16,
   "metadata": {},
   "outputs": [
    {
     "name": "stdout",
     "output_type": "stream",
     "text": [
      "-1/(4*t**2) - 3/(64*t**4)\n"
     ]
    }
   ],
   "source": [
    "t = symbols('t')\n",
    "D = (1 / ((4*t)**3)) + ((16*t**2) / ((4*t)**3))\n",
    "print(diff(D, t))"
   ]
  },
  {
   "cell_type": "code",
   "execution_count": 15,
   "metadata": {},
   "outputs": [
    {
     "name": "stdout",
     "output_type": "stream",
     "text": [
      "-3/(64*t**4)\n",
      "-1/(4*t**2)\n"
     ]
    }
   ],
   "source": [
    "print(diff((1 / ((4*t)**3)), t))\n",
    "print(diff(((16*t**2) / ((4*t)**3)), t))"
   ]
  },
  {
   "cell_type": "code",
   "execution_count": 18,
   "metadata": {},
   "outputs": [],
   "source": [
    "x = symbols('x')\n",
    "f= 3*exp(x) + x\n",
    "y = f.subs(x, 0)"
   ]
  },
  {
   "cell_type": "code",
   "execution_count": 20,
   "metadata": {},
   "outputs": [
    {
     "name": "stdout",
     "output_type": "stream",
     "text": [
      "4*x + 3\n"
     ]
    }
   ],
   "source": [
    "m = diff(f, x)\n",
    "slope = m.subs(x, 0)\n",
    "eq = slope*(x - 0) + y \n",
    "print(eq)"
   ]
  },
  {
   "cell_type": "code",
   "execution_count": 22,
   "metadata": {},
   "outputs": [
    {
     "name": "stdout",
     "output_type": "stream",
     "text": [
      "5*exp(x) - 2.5/(x*(x**5)**0.5)\n"
     ]
    }
   ],
   "source": [
    "x = symbols('x')\n",
    "J = (5*exp(x)) + (1/(x**5)**0.5)\n",
    "eq = diff(J, x)\n",
    "print(eq)"
   ]
  },
  {
   "cell_type": "code",
   "execution_count": 23,
   "metadata": {},
   "outputs": [
    {
     "name": "stdout",
     "output_type": "stream",
     "text": [
      "5*exp(x) - 2.5/(x*(x**5)**0.5)\n"
     ]
    }
   ],
   "source": [
    "print(eq.simplify())"
   ]
  },
  {
   "cell_type": "code",
   "execution_count": 27,
   "metadata": {},
   "outputs": [
    {
     "name": "stdout",
     "output_type": "stream",
     "text": [
      "24*x**2 - 24*x + 12\n"
     ]
    }
   ],
   "source": [
    "x = symbols('x')\n",
    "f = (2*x**2 + 3)*(4*x - 6)\n",
    "sol =  diff(f, x)\n",
    "print(sol.expand())"
   ]
  },
  {
   "cell_type": "code",
   "execution_count": 29,
   "metadata": {},
   "outputs": [
    {
     "name": "stdout",
     "output_type": "stream",
     "text": [
      "a*b*exp(r)/(b + exp(r))**2\n"
     ]
    }
   ],
   "source": [
    "a, b, r  = symbols('a, b, r')\n",
    "h = (a*exp(r)) / (b + exp(r))\n",
    "sol = diff(h, r)\n",
    "print(sol.simplify())"
   ]
  },
  {
   "cell_type": "code",
   "execution_count": 30,
   "metadata": {},
   "outputs": [
    {
     "name": "stdout",
     "output_type": "stream",
     "text": [
      "2*exp(2*x) + 1/x\n"
     ]
    }
   ],
   "source": [
    "x = symbols('x')\n",
    "f = (exp(2*x) + log(2*x))\n",
    "sol = diff(f, x)\n",
    "print(sol)"
   ]
  },
  {
   "cell_type": "code",
   "execution_count": 31,
   "metadata": {},
   "outputs": [
    {
     "data": {
      "text/latex": [
       "$\\displaystyle 2 \\pi r$"
      ],
      "text/plain": [
       "2*pi*r"
      ]
     },
     "execution_count": 31,
     "metadata": {},
     "output_type": "execute_result"
    }
   ],
   "source": [
    "r = symbols('r')\n",
    "A = pi * r**2\n",
    "diff(A, r)"
   ]
  },
  {
   "cell_type": "code",
   "execution_count": null,
   "metadata": {},
   "outputs": [],
   "source": []
  }
 ],
 "metadata": {
  "kernelspec": {
   "display_name": "base",
   "language": "python",
   "name": "python3"
  },
  "language_info": {
   "codemirror_mode": {
    "name": "ipython",
    "version": 3
   },
   "file_extension": ".py",
   "mimetype": "text/x-python",
   "name": "python",
   "nbconvert_exporter": "python",
   "pygments_lexer": "ipython3",
   "version": "3.11.5"
  }
 },
 "nbformat": 4,
 "nbformat_minor": 2
}
