{
 "cells": [
  {
   "cell_type": "markdown",
   "metadata": {},
   "source": [
    "### Riemann Sums\n",
    "- interval a, b\n",
    "- delta x = xi+1 - xi\n",
    "- Left Hand Riemann Sum\n",
    "- Right Hand Riemann Sum\n",
    "- decreasing => left endpoint overestimates \n",
    "- increasing => right endpoint underestimates\n",
    "\n",
    "### The definite ingral\n",
    "- limit of the sum of the rectangles\n",
    "\n",
    "### Area under the graph\n",
    "- total change between a => b\n",
    "- definite integral gives the # of people from the limit from a => b of a rate"
   ]
  },
  {
   "cell_type": "code",
   "execution_count": 1,
   "metadata": {},
   "outputs": [],
   "source": [
    "from sympy import *\n",
    "from sympy.parsing.sympy_parser import parse_expr"
   ]
  },
  {
   "cell_type": "markdown",
   "metadata": {},
   "source": []
  },
  {
   "cell_type": "code",
   "execution_count": 2,
   "metadata": {},
   "outputs": [],
   "source": [
    "def left_reimann_sum(f, n):\n",
    "    x = symbols('x')\n",
    "    a = 0\n",
    "    b = 1\n",
    "    w = (b - a) / n\n",
    "    hs = []\n",
    "    for i in range(n):\n",
    "        hs.append(parse_expr(f).subs({x: a + w*i}))\n",
    "    \n",
    "    area = [(w ( h[i] for h in hs))]\n",
    "\n",
    "    print('area is :', area)\n",
    "\n"
   ]
  },
  {
   "cell_type": "code",
   "execution_count": 6,
   "metadata": {},
   "outputs": [
    {
     "name": "stdout",
     "output_type": "stream",
     "text": [
      "1/3\n"
     ]
    }
   ],
   "source": [
    "x = symbols('x')\n",
    "sol = integrate(x**2, (x, 0 , 1))\n",
    "print(sol)"
   ]
  },
  {
   "cell_type": "code",
   "execution_count": 8,
   "metadata": {},
   "outputs": [
    {
     "name": "stdout",
     "output_type": "stream",
     "text": [
      "The left-hand sum is 54.2 and the right-hand sum is 74.0\n"
     ]
    }
   ],
   "source": [
    "x = [ 0, 2, 5, 6, 10 ]\n",
    "f = [ 1.5, 4, 7.2, 8, 9.1 ]\n",
    "n = 4\n",
    "left_rect = [f[i]*(x[i+1]-x[i]) for i in range(0,n)]\n",
    "right_rect = [f[i+1]*(x[i+1]-x[i]) for i in range(0,n)]\n",
    "LHS = sum(left_rect)\n",
    "RHS = sum(right_rect)\n",
    "print(f'The left-hand sum is {LHS} and the right-hand sum is {RHS}')"
   ]
  },
  {
   "cell_type": "code",
   "execution_count": 9,
   "metadata": {},
   "outputs": [
    {
     "name": "stdout",
     "output_type": "stream",
     "text": [
      "The left-hand sum is 1.75000000000000 and the right-hand sum is 3.75000000000000\n"
     ]
    }
   ],
   "source": [
    "x = symbols('x')\n",
    "f = x**2  + 2*x + 1\n",
    "a = -1\n",
    "b = 1\n",
    "n = 4\n",
    "dx = (b - a)/n \n",
    "x_left = [a + i*dx for i in range (0, n)]\n",
    "x_right = [a + i*dx for i in range(1,n+1)]\n",
    "f_left = [f.subs(x,i) for i in x_left]\n",
    "f_right = [f.subs(x,i) for i in x_right]\n",
    "LHS = sum(f_left)*dx\n",
    "RHS = sum(f_right)*dx\n",
    "print(f'The left-hand sum is {LHS} and the right-hand sum is {RHS}')"
   ]
  },
  {
   "cell_type": "code",
   "execution_count": 10,
   "metadata": {},
   "outputs": [
    {
     "data": {
      "text/latex": [
       "$\\displaystyle 1$"
      ],
      "text/plain": [
       "1"
      ]
     },
     "execution_count": 10,
     "metadata": {},
     "output_type": "execute_result"
    }
   ],
   "source": [
    "x = symbols('x')\n",
    "integrate(x*exp(x), (x, 0, 1))\n"
   ]
  },
  {
   "cell_type": "code",
   "execution_count": 21,
   "metadata": {},
   "outputs": [
    {
     "name": "stdout",
     "output_type": "stream",
     "text": [
      "2130.0\n"
     ]
    }
   ],
   "source": [
    "# 1\n",
    "xs = [1960, 1970, 1980, 1990, 2000, 2010]\n",
    "y = [36, 40, 63, 64, 10, 8]\n",
    "n = len(xs) - 1\n",
    "dx = (xs[-1] - x[0]) / n\n",
    "l_rect = [dx * y[i] for i in range(n)]\n",
    "area = sum(l_rect)\n",
    "print(area)\n",
    "# 2130, underesimate .. cannot be determined because it isn't increasing or decreasing all the way through"
   ]
  },
  {
   "cell_type": "code",
   "execution_count": 24,
   "metadata": {},
   "outputs": [
    {
     "name": "stdout",
     "output_type": "stream",
     "text": [
      "127222.300039790\n"
     ]
    }
   ],
   "source": [
    "# number of dollars loss between some time a to b\n",
    "t = symbols('t')\n",
    "r = 24*exp(-0.22*t)\n",
    "sol = integrate(r, (t, 0, 5)) * 1000\n",
    "print(200000 - sol)\n"
   ]
  },
  {
   "cell_type": "code",
   "execution_count": 23,
   "metadata": {},
   "outputs": [
    {
     "name": "stdout",
     "output_type": "stream",
     "text": [
      "24\n"
     ]
    }
   ],
   "source": [
    "x = symbols('x')\n",
    "h = 16 - x**2\n",
    "sol = integrate(h, (x, 0, 6))\n",
    "print(sol)"
   ]
  },
  {
   "cell_type": "code",
   "execution_count": 25,
   "metadata": {},
   "outputs": [
    {
     "data": {
      "text/latex": [
       "$\\displaystyle 61.3333333333333$"
      ],
      "text/plain": [
       "61.3333333333333"
      ]
     },
     "execution_count": 25,
     "metadata": {},
     "output_type": "execute_result"
    }
   ],
   "source": [
    "x = symbols('x')\n",
    "#solution\n",
    "h = 16 - x**2\n",
    "# area above x axis\n",
    "above = integrate(h, (x, 0, 4))\n",
    "# area below x axis\n",
    "below = -integrate(h, (x, 4, 6))\n",
    "# total area\n",
    "total_area = above + below\n",
    "total_area.evalf()"
   ]
  },
  {
   "cell_type": "code",
   "execution_count": 26,
   "metadata": {},
   "outputs": [],
   "source": [
    "# TEST\n",
    "#1 -- correct always undere-estimate.... what about functions that aren't always increasing or decreasing?...so not always\n"
   ]
  },
  {
   "cell_type": "markdown",
   "metadata": {},
   "source": []
  },
  {
   "cell_type": "code",
   "execution_count": 59,
   "metadata": {},
   "outputs": [
    {
     "name": "stdout",
     "output_type": "stream",
     "text": [
      "[3.0, 4.0, 5.0] [9.00000000000000, 13.0000000000000, 17.0000000000000]\n",
      "39.0000000000000\n"
     ]
    }
   ],
   "source": [
    "#2 \n",
    "x = symbols('x')\n",
    "f = 4*x - 3\n",
    "a = 2\n",
    "b = 5\n",
    "n = 3\n",
    "dx = (b - a) / n \n",
    "x_right = [a + i*dx for i in range(1, n + 1)]\n",
    "f_right = [f.subs(x, xr) for xr in x_right]\n",
    "print(x_right, f_right)\n",
    "print(sum(f_right) * dx)\n",
    "\n"
   ]
  },
  {
   "cell_type": "code",
   "execution_count": 51,
   "metadata": {},
   "outputs": [
    {
     "name": "stdout",
     "output_type": "stream",
     "text": [
      "6 10.0\n",
      "[818.0, 751.0, 476.0, 445.0, 557.0, 787.0]\n",
      "3834.0\n"
     ]
    }
   ],
   "source": [
    "# 3....left hand....so just do the beginning ...\n",
    "t = [ 0, 10, 20, 30, 40, 50, 60 ]\n",
    "v = [ 81.8, 75.1, 47.6, 44.5, 55.7, 78.7, 78.5 ]\n",
    "n = len(t) - 1\n",
    "dx = (max(t) - min(t)) / n\n",
    "print(n, dx)\n",
    "\n",
    "left_rects = [dx * v[i] for i in range(len(t) - 1)]\n",
    "print(left_rects)\n",
    "sol = sum(left_rects)\n",
    "print(sol)"
   ]
  },
  {
   "cell_type": "code",
   "execution_count": 30,
   "metadata": {},
   "outputs": [],
   "source": [
    "#4 correct rates aren't increasing and decreasing monotonically\n"
   ]
  },
  {
   "cell_type": "code",
   "execution_count": 31,
   "metadata": {},
   "outputs": [],
   "source": [
    "# 5 .... don't know the the start amount ... so we just know more"
   ]
  },
  {
   "cell_type": "code",
   "execution_count": 56,
   "metadata": {},
   "outputs": [
    {
     "name": "stdout",
     "output_type": "stream",
     "text": [
      "3 15.0\n",
      "[0, 5400, 144000]\n",
      "149400\n"
     ]
    }
   ],
   "source": [
    "#6 --- sometimes the t is not always equal length..... like 30 to 60\n",
    "t = [ 0, 15, 30, 60 ]\n",
    "f = [ 0, 360, 4800, 32000 ]\n",
    "n = len(t) - 1\n",
    "print(n, dx)\n",
    "left_rects = [(t[i + 1] - t[i])*f[i] for i in range(n)]\n",
    "print(left_rects)\n",
    "sol = sum(left_rects)\n",
    "print(sol)"
   ]
  },
  {
   "cell_type": "markdown",
   "metadata": {},
   "source": []
  },
  {
   "cell_type": "code",
   "execution_count": 34,
   "metadata": {},
   "outputs": [],
   "source": [
    "# 7 - correct"
   ]
  },
  {
   "cell_type": "code",
   "execution_count": 35,
   "metadata": {},
   "outputs": [
    {
     "name": "stdout",
     "output_type": "stream",
     "text": [
      "0.16\n"
     ]
    }
   ],
   "source": [
    "# 8 -- correct \n",
    "x = symbols('x')\n",
    "f = log(x)\n",
    "sol = integrate(f, (x, 1.3, 1.7))\n",
    "print(round(sol,2))"
   ]
  },
  {
   "cell_type": "code",
   "execution_count": null,
   "metadata": {},
   "outputs": [
    {
     "name": "stdout",
     "output_type": "stream",
     "text": [
      "12.67\n"
     ]
    }
   ],
   "source": [
    "# 9 - correct\n",
    "# 1=>3\n",
    "# 3=>4\n",
    "x = symbols('x')\n",
    "f = 9 - x**2\n",
    "area_1_3 = integrate(f, (x, 1, 3))\n",
    "area_3_4 = integrate(f, (x, 3, 4))\n",
    "total_area = float((area_1_3 + abs(area_3_4)))\n",
    "print(round(total_area,2))\n"
   ]
  },
  {
   "cell_type": "code",
   "execution_count": 42,
   "metadata": {},
   "outputs": [
    {
     "name": "stdout",
     "output_type": "stream",
     "text": [
      "3916.64\n"
     ]
    }
   ],
   "source": [
    "# 10 - correct\n",
    "t = symbols('t')\n",
    "v = 480*exp(0.06*t)\n",
    "total = 450 + integrate(v, (t, 0 ,6))\n",
    "print(round(total, 2))"
   ]
  },
  {
   "cell_type": "code",
   "execution_count": null,
   "metadata": {},
   "outputs": [],
   "source": []
  }
 ],
 "metadata": {
  "kernelspec": {
   "display_name": "base",
   "language": "python",
   "name": "python3"
  },
  "language_info": {
   "codemirror_mode": {
    "name": "ipython",
    "version": 3
   },
   "file_extension": ".py",
   "mimetype": "text/x-python",
   "name": "python",
   "nbconvert_exporter": "python",
   "pygments_lexer": "ipython3",
   "version": "3.11.5"
  }
 },
 "nbformat": 4,
 "nbformat_minor": 2
}
