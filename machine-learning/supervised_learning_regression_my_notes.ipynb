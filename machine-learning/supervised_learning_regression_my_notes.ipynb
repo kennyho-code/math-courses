{
 "cells": [
  {
   "cell_type": "markdown",
   "metadata": {},
   "source": [
    "### What is Machine Learning\n",
    "- We're trying to compute some function f(x) => y\n",
    "- x is the example and y is some value that some output that we want\n",
    "- we can train some function F in which in \"predicts\" the correct y\n",
    "- our prediction y vs the correct y is what we are trying to decrease"
   ]
  },
  {
   "cell_type": "markdown",
   "metadata": {},
   "source": [
    "### Machine learning is lots of algorithms but lets start with the most simple a basic in which we can nail down the fundamentals"
   ]
  },
  {
   "cell_type": "markdown",
   "metadata": {},
   "source": [
    "### Linear regression\n",
    "- Linear regression takes in the form of y = mx + b\n",
    "- y is our prediction and x is out input, m is our weight (we can now interchange this to w) and b is our y-intercept/bias\n",
    "- Trying to find the best weight w and bias b to correctly predict y is we need to do"
   ]
  },
  {
   "cell_type": "code",
   "execution_count": 15,
   "metadata": {},
   "outputs": [],
   "source": [
    "import numpy as np\n",
    "import matplotlib.pyplot as plt\n",
    "from IPython.display import Math\n"
   ]
  },
  {
   "cell_type": "code",
   "execution_count": 5,
   "metadata": {},
   "outputs": [],
   "source": [
    "x_train = np.array([6.1101, 5.5277, 8.5186, 7.0032, 5.8598])\n",
    "y_train = np.array([17.592,   9.1302, 13.662,  11.854,   6.8233])"
   ]
  },
  {
   "cell_type": "code",
   "execution_count": 6,
   "metadata": {},
   "outputs": [
    {
     "name": "stdout",
     "output_type": "stream",
     "text": [
      "x shape:  (5,)\n",
      "y shape:  (5,)\n"
     ]
    }
   ],
   "source": [
    "# 5 examples with 1 feature\n",
    "print(\"x shape: \", x_train.shape)\n",
    "print(\"y shape: \", y_train.shape)"
   ]
  },
  {
   "cell_type": "code",
   "execution_count": 7,
   "metadata": {},
   "outputs": [
    {
     "data": {
      "image/png": "[encoded data removed]",
      "text/plain": [
       "<Figure size 640x480 with 1 Axes>"
      ]
     },
     "metadata": {},
     "output_type": "display_data"
    }
   ],
   "source": [
    "plt.scatter(x_train, y_train, marker='x', c='r')\n",
    "plt.title('example title')\n",
    "plt.ylabel('example y value')\n",
    "plt.xlabel('example x value')\n",
    "plt.show()"
   ]
  },
  {
   "cell_type": "code",
   "execution_count": 19,
   "metadata": {},
   "outputs": [
    {
     "data": {
      "text/latex": [
       "$\\displaystyle f_{w,b}(x) = wx + b$"
      ],
      "text/plain": [
       "<IPython.core.display.Math object>"
      ]
     },
     "execution_count": 19,
     "metadata": {},
     "output_type": "execute_result"
    }
   ],
   "source": [
    "Math(r'f_{w,b}(x) = wx + b')"
   ]
  },
  {
   "cell_type": "code",
   "execution_count": 26,
   "metadata": {},
   "outputs": [
    {
     "name": "stdout",
     "output_type": "stream",
     "text": [
      "[0.52171209 0.03281817 0.30025288 0.12486049 0.10217981]\n",
      "prediction:  [4.18771304 1.18140902 3.55773415 1.87442301 1.59875322]\n"
     ]
    }
   ],
   "source": [
    "# things can be predicted by some function .... that takes in the weight and example + the bias\n",
    "def linear_regression(x, w, b):\n",
    "    return x * w + b \n",
    "m = x_train.shape[0]\n",
    "weights = np.random.rand(m)\n",
    "bias = 1\n",
    "prediction = linear_regression(x_train, weights, bias)\n",
    "print(\"prediction: \", prediction)"
   ]
  },
  {
   "cell_type": "code",
   "execution_count": 35,
   "metadata": {},
   "outputs": [
    {
     "name": "stdout",
     "output_type": "stream",
     "text": [
      "cost [-13.40428696  -7.94879098 -10.10426585  -9.97957699  -5.22454678]\n",
      "squared_cost:  [179.67490901  63.18327804 102.09618842  99.59195696  27.29588901]\n"
     ]
    }
   ],
   "source": [
    "# now we can compare with the predictions to y\n",
    "cost = prediction - y_train\n",
    "print(\"cost\", cost)\n",
    "# square it to keep away any negatives \n",
    "cost = cost**2\n",
    "print(\"squared_cost: \", cost)"
   ]
  },
  {
   "cell_type": "code",
   "execution_count": 37,
   "metadata": {},
   "outputs": [
    {
     "data": {
      "text/latex": [
       "$\\displaystyle J(\\mathbf{w},b) = \\frac{1}{2m} \\sum\\limits_{i = 0}^{m-1} cost^{(i)}$"
      ],
      "text/plain": [
       "<IPython.core.display.Math object>"
      ]
     },
     "execution_count": 37,
     "metadata": {},
     "output_type": "execute_result"
    }
   ],
   "source": [
    "# computing the cost \n",
    "Math(r'J(\\mathbf{w},b) = \\frac{1}{2m} \\sum\\limits_{i = 0}^{m-1} cost^{(i)}')"
   ]
  },
  {
   "cell_type": "code",
   "execution_count": 38,
   "metadata": {},
   "outputs": [],
   "source": [
    "def compute_cost(x, y, w, b):\n",
    "    total_cost = 0\n",
    "    m = x.shape[0]\n",
    "    for i in range(m):\n",
    "        prediction = x[i]*w[i] + b\n",
    "        current_cost = (prediction - y[i]) ** 2\n",
    "        total_cost += current_cost\n",
    "    total_cost /= m\n",
    "    return total_cost"
   ]
  },
  {
   "cell_type": "code",
   "execution_count": 39,
   "metadata": {},
   "outputs": [
    {
     "name": "stdout",
     "output_type": "stream",
     "text": [
      "94.3684442882034\n"
     ]
    }
   ],
   "source": [
    "total_cost = compute_cost(x_train, y_train, weights, bias)\n",
    "print(total_cost)\n"
   ]
  },
  {
   "cell_type": "code",
   "execution_count": 42,
   "metadata": {},
   "outputs": [
    {
     "data": {
      "text/latex": [
       "$\\displaystyle \\frac{\\partial J(w,b)}{\\partial b}^{(i)}  =  (f_{w,b}(x^{(i)}) - y^{(i)})$"
      ],
      "text/plain": [
       "<IPython.core.display.Math object>"
      ]
     },
     "execution_count": 42,
     "metadata": {},
     "output_type": "execute_result"
    }
   ],
   "source": [
    "# the point is the use these smaller functions to get to gradient descent, where can do calculus ... slope where it is 0\n",
    "Math(r'\\frac{\\partial J(w,b)}{\\partial b}^{(i)}  =  (f_{w,b}(x^{(i)}) - y^{(i)})')"
   ]
  },
  {
   "cell_type": "code",
   "execution_count": 43,
   "metadata": {},
   "outputs": [
    {
     "data": {
      "text/latex": [
       "$\\displaystyle \\frac{\\partial J(w,b)}{\\partial w}^{(i)}  =  (f_{w,b}(x^{(i)}) -y^{(i)})x^{(i)}$"
      ],
      "text/plain": [
       "<IPython.core.display.Math object>"
      ]
     },
     "execution_count": 43,
     "metadata": {},
     "output_type": "execute_result"
    }
   ],
   "source": [
    "Math(r'\\frac{\\partial J(w,b)}{\\partial w}^{(i)}  =  (f_{w,b}(x^{(i)}) -y^{(i)})x^{(i)}')"
   ]
  },
  {
   "cell_type": "code",
   "execution_count": 44,
   "metadata": {},
   "outputs": [],
   "source": [
    "# we do calculus to get the gradient of w and b.......in which we find where the slope is 0 ...\n",
    "# ... once we get slope is 0...then the cost is reduced"
   ]
  },
  {
   "cell_type": "code",
   "execution_count": 45,
   "metadata": {},
   "outputs": [],
   "source": [
    "def compute_gradient(x, y, w, b):\n",
    "    m = x.shape[0]\n",
    "    dj_dw = 0\n",
    "    dj_db = 0\n",
    "\n",
    "    for i in range(m):\n",
    "        prediction = w * x[i] + b\n",
    "        dj_db += prediction - y[i]\n",
    "        dj_dw = (prediction - y[i]) * x[i]\n",
    "    dj_dw /= m\n",
    "    dj_db /= m \n",
    "    return dj_dw, dj_db"
   ]
  },
  {
   "cell_type": "code",
   "execution_count": null,
   "metadata": {},
   "outputs": [],
   "source": [
    "### now we need to converge to some w and b by using batch gradient descent"
   ]
  },
  {
   "cell_type": "code",
   "execution_count": 47,
   "metadata": {},
   "outputs": [
    {
     "data": {
      "text/latex": [
       "\\begin{align*}& \\text{repeat until convergence:} \\; \\lbrace \\newline \\; & \\phantom {0000} b := b -  \\alpha \\frac{\\partial J(w,b)}{\\partial b} \\newline       \\; & \\phantom {0000} w := w -  \\alpha \\frac{\\partial J(w,b)}{\\partial w} \\tag{1}  \\; & \n",
       "\\newline & \\rbrace\\end{align*}"
      ],
      "text/plain": [
       "<IPython.core.display.Latex object>"
      ]
     },
     "execution_count": 47,
     "metadata": {},
     "output_type": "execute_result"
    }
   ],
   "source": [
    "from IPython.display import Latex\n",
    "Latex(r\"\"\"\\begin{align*}& \\text{repeat until convergence:} \\; \\lbrace \\newline \\; & \\phantom {0000} b := b -  \\alpha \\frac{\\partial J(w,b)}{\\partial b} \\newline       \\; & \\phantom {0000} w := w -  \\alpha \\frac{\\partial J(w,b)}{\\partial w} \\tag{1}  \\; & \n",
    "\\newline & \\rbrace\\end{align*}\"\"\")"
   ]
  },
  {
   "cell_type": "markdown",
   "metadata": {},
   "source": [
    "- we keep doing iterations until we have trained b and w....\n",
    "- alpha is the step size...if alpha is too large...it can overshoot ..thus not not getting to the slope of 0....\n",
    "- if alpha is too small..it might take too long to train"
   ]
  },
  {
   "cell_type": "code",
   "execution_count": 48,
   "metadata": {},
   "outputs": [],
   "source": [
    "import copy\n",
    "def gradient_descent(x, y, w_in, b_in, cost_function, gradient_function, alpha, num_iters):\n",
    "    m = len(x)\n",
    "    w = copy.deepcopy(w_in)\n",
    "    b = b_in\n",
    "    \n",
    "    for i in range(num_iters):\n",
    "        dj_dw, dj_db = gradient_function(x, y, w, b)\n",
    "        w = w - alpha * dj_dw\n",
    "        b =  b - alpha * dj_db\n",
    "\n",
    "        if i<100000:      # prevent resource exhaustion \n",
    "            cost = cost_function(x, y, w, b)\n",
    "\n",
    "    return w, b"
   ]
  },
  {
   "cell_type": "code",
   "execution_count": 49,
   "metadata": {},
   "outputs": [],
   "source": [
    "# we get a trained w, b .... in which can now predict doing linear regression\n",
    "\n",
    "w_trained, b_trained = 123, 123\n",
    "x = 123\n",
    "new_predicton = x * w_trained + b_trained "
   ]
  },
  {
   "cell_type": "code",
   "execution_count": null,
   "metadata": {},
   "outputs": [],
   "source": []
  }
 ],
 "metadata": {
  "kernelspec": {
   "display_name": ".conda",
   "language": "python",
   "name": "python3"
  },
  "language_info": {
   "codemirror_mode": {
    "name": "ipython",
    "version": 3
   },
   "file_extension": ".py",
   "mimetype": "text/x-python",
   "name": "python",
   "nbconvert_exporter": "python",
   "pygments_lexer": "ipython3",
   "version": "3.12.8"
  }
 },
 "nbformat": 4,
 "nbformat_minor": 2
}
